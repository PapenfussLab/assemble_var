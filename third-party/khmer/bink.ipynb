{
 "metadata": {
  "name": "bink"
 },
 "nbformat": 3,
 "nbformat_minor": 0,
 "worksheets": [
  {
   "cells": [
    {
     "cell_type": "code",
     "collapsed": false,
     "input": [
      "!python sandbox/bin-reads-by-abundance.py data/stamps-reads.fa.gz "
     ],
     "language": "python",
     "metadata": {},
     "outputs": [
      {
       "output_type": "stream",
       "stream": "stdout",
       "text": [
        "... 0\r\n"
       ]
      },
      {
       "output_type": "stream",
       "stream": "stdout",
       "text": [
        "PING\r\n"
       ]
      },
      {
       "output_type": "stream",
       "stream": "stdout",
       "text": [
        "... 25000\r\n"
       ]
      },
      {
       "output_type": "stream",
       "stream": "stdout",
       "text": [
        "... 50000\r\n"
       ]
      },
      {
       "output_type": "stream",
       "stream": "stdout",
       "text": [
        "PING\r\n"
       ]
      },
      {
       "output_type": "stream",
       "stream": "stdout",
       "text": [
        "PING\r\n"
       ]
      },
      {
       "output_type": "stream",
       "stream": "stdout",
       "text": [
        "... 75000\r\n"
       ]
      },
      {
       "output_type": "stream",
       "stream": "stdout",
       "text": [
        "... 100000\r\n"
       ]
      },
      {
       "output_type": "stream",
       "stream": "stdout",
       "text": [
        "... 125000\r\n"
       ]
      },
      {
       "output_type": "stream",
       "stream": "stdout",
       "text": [
        "... 150000\r\n"
       ]
      },
      {
       "output_type": "stream",
       "stream": "stdout",
       "text": [
        "... 175000\r\n"
       ]
      },
      {
       "output_type": "stream",
       "stream": "stdout",
       "text": [
        "199999 7359 9413 175 183053\r\n"
       ]
      }
     ],
     "prompt_number": 38
    },
    {
     "cell_type": "code",
     "collapsed": false,
     "input": [
      "!python scripts/abundance-dist-single.py -s -k 20 -x 1e8 stamps-reads.fa.gz.bink.2 bink2.hist\n",
      "!python scripts/abundance-dist-single.py -s -k 20 -x 1e8 stamps-reads.fa.gz.bink.1 bink1.hist"
     ],
     "language": "python",
     "metadata": {},
     "outputs": [
      {
       "output_type": "stream",
       "stream": "stdout",
       "text": [
        "\r\n",
        "PARAMETERS:\r\n",
        " - kmer size =    20 \t\t(-k)\r\n",
        " - n hashes =     4 \t\t(-N)\r\n",
        " - min hashsize = 1e+08 \t(-x)\r\n",
        "\r\n",
        "Estimated memory usage is 4e+08 bytes (n_hashes x min_hashsize)\r\n",
        "--------\r\n",
        "making hashtable\r\n"
       ]
      },
      {
       "output_type": "stream",
       "stream": "stdout",
       "text": [
        "building tracking ht\r\n",
        "K: 20\r\n",
        "HT sizes: [100000007, 100000037, 100000039, 100000049]\r\n",
        "outputting to bink2.hist\r\n",
        "consuming input, round 1 -- stamps-reads.fa.gz.bink.2\r\n"
       ]
      },
      {
       "output_type": "stream",
       "stream": "stdout",
       "text": [
        "preparing hist from stamps-reads.fa.gz.bink.2...\r\n",
        "consuming input, round 2 -- stamps-reads.fa.gz.bink.2\r\n"
       ]
      },
      {
       "output_type": "stream",
       "stream": "stdout",
       "text": [
        "\r\n",
        "PARAMETERS:\r\n",
        " - kmer size =    20 \t\t(-k)\r\n",
        " - n hashes =     4 \t\t(-N)\r\n",
        " - min hashsize = 1e+08 \t(-x)\r\n",
        "\r\n",
        "Estimated memory usage is 4e+08 bytes (n_hashes x min_hashsize)\r\n",
        "--------\r\n",
        "making hashtable\r\n"
       ]
      },
      {
       "output_type": "stream",
       "stream": "stdout",
       "text": [
        "building tracking ht\r\n"
       ]
      },
      {
       "output_type": "stream",
       "stream": "stdout",
       "text": [
        "K: 20\r\n",
        "HT sizes: [100000007, 100000037, 100000039, 100000049]\r\n",
        "outputting to bink1.hist\r\n",
        "consuming input, round 1 -- stamps-reads.fa.gz.bink.1\r\n"
       ]
      },
      {
       "output_type": "stream",
       "stream": "stdout",
       "text": [
        "preparing hist from stamps-reads.fa.gz.bink.1...\r\n",
        "consuming input, round 2 -- stamps-reads.fa.gz.bink.1\r\n"
       ]
      }
     ],
     "prompt_number": 46
    },
    {
     "cell_type": "code",
     "collapsed": false,
     "input": [
      "raw = numpy.loadtxt('raw-reads.hist')\n",
      "bink = numpy.loadtxt('bink-reads.hist')\n",
      "bink1 = numpy.loadtxt('bink1.hist')\n",
      "bink2 = numpy.loadtxt('bink2.hist')"
     ],
     "language": "python",
     "metadata": {},
     "outputs": [],
     "prompt_number": 47
    },
    {
     "cell_type": "code",
     "collapsed": false,
     "input": [
      "plot(raw[:,0], raw[:,1])\n",
      "plot(bink[:,0], bink[:,1])\n",
      "axis(ymax=200)"
     ],
     "language": "python",
     "metadata": {},
     "outputs": [
      {
       "output_type": "pyout",
       "prompt_number": 48,
       "text": [
        "(0.0, 3500.0, 0.0, 200)"
       ]
      },
      {
       "output_type": "display_data",
       "png": "[encoded data removed]",
       "text": [
        "<matplotlib.figure.Figure at 0x10c163a90>"
       ]
      }
     ],
     "prompt_number": 48
    },
    {
     "cell_type": "code",
     "collapsed": false,
     "input": [
      "plot(raw[:,0], raw[:,1])\n",
      "plot(bink[:,0], bink[:,1])\n",
      "axis(ymax=200, xmax=200)"
     ],
     "language": "python",
     "metadata": {},
     "outputs": [
      {
       "output_type": "pyout",
       "prompt_number": 49,
       "text": [
        "(0.0, 200, 0.0, 200)"
       ]
      },
      {
       "output_type": "display_data",
       "png": "[encoded data removed]",
       "text": [
        "<matplotlib.figure.Figure at 0x109e46850>"
       ]
      }
     ],
     "prompt_number": 49
    },
    {
     "cell_type": "code",
     "collapsed": false,
     "input": [],
     "language": "python",
     "metadata": {},
     "outputs": [],
     "prompt_number": 49
    },
    {
     "cell_type": "code",
     "collapsed": false,
     "input": [
      "plot(bink1[:,0], bink1[:,1])\n",
      "plot(bink2[:,0], bink2[:,1])\n",
      "axis(ymax=800)"
     ],
     "language": "python",
     "metadata": {},
     "outputs": [
      {
       "output_type": "pyout",
       "prompt_number": 50,
       "text": [
        "(0.0, 120.0, 0.0, 800)"
       ]
      },
      {
       "output_type": "display_data",
       "png": "[encoded data removed]",
       "text": [
        "<matplotlib.figure.Figure at 0x10c13c2d0>"
       ]
      }
     ],
     "prompt_number": 50
    },
    {
     "cell_type": "code",
     "collapsed": false,
     "input": [
      "!python scripts/load-into-counting.py -x 1e7 -k 20 bink1.kh stamps-reads.fa.gz.bink.1\n",
      "!python scripts/abundance-dist.py -s bink1.kh a.fa bink1.x.a.hist\n",
      "!python scripts/abundance-dist.py -s bink1.kh b.fa bink1.x.b.hist\n",
      "\n",
      "!python scripts/load-into-counting.py -x 1e7 -k 20 bink2.kh stamps-reads.fa.gz.bink.2\n",
      "!python scripts/abundance-dist.py -s bink2.kh a.fa bink2.x.a.hist\n",
      "!python scripts/abundance-dist.py -s bink2.kh b.fa bink2.x.b.hist"
     ],
     "language": "python",
     "metadata": {},
     "outputs": [
      {
       "output_type": "stream",
       "stream": "stdout",
       "text": [
        "\r\n",
        "PARAMETERS:\r\n",
        " - kmer size =    20 \t\t(-k)\r\n",
        " - n hashes =     4 \t\t(-N)\r\n",
        " - min hashsize = 1e+07 \t(-x)\r\n",
        "\r\n",
        "Estimated memory usage is 4e+07 bytes (n_hashes x min_hashsize)\r\n",
        "--------\r\n",
        "Saving hashtable to bink1.kh\r\n",
        "Loading kmers from sequences in ['stamps-reads.fa.gz.bink.1']\r\n",
        "making hashtable\r\n"
       ]
      },
      {
       "output_type": "stream",
       "stream": "stdout",
       "text": [
        "consuming input stamps-reads.fa.gz.bink.1\r\n"
       ]
      },
      {
       "output_type": "stream",
       "stream": "stdout",
       "text": [
        "saving bink1.kh\r\n"
       ]
      },
      {
       "output_type": "stream",
       "stream": "stdout",
       "text": [
        "fp rate estimated to be 0.000\r\n",
        "DONE.\r\n"
       ]
      },
      {
       "output_type": "stream",
       "stream": "stdout",
       "text": [
        "hashtable from bink1.kh\r\n"
       ]
      },
      {
       "output_type": "stream",
       "stream": "stdout",
       "text": [
        "K: 20\r\n",
        "HT sizes: [10000019, 10000079, 10000103, 10000121]\r\n",
        "outputting to bink1.x.a.hist\r\n",
        "** squashing existing file bink1.x.a.hist\r\n",
        "preparing hist...\r\n"
       ]
      },
      {
       "output_type": "stream",
       "stream": "stdout",
       "text": [
        "hashtable from bink1.kh\r\n"
       ]
      },
      {
       "output_type": "stream",
       "stream": "stdout",
       "text": [
        "K: 20\r\n",
        "HT sizes: [10000019, 10000079, 10000103, 10000121]\r\n",
        "outputting to bink1.x.b.hist\r\n",
        "** squashing existing file bink1.x.b.hist\r\n",
        "preparing hist...\r\n"
       ]
      },
      {
       "output_type": "stream",
       "stream": "stdout",
       "text": [
        "\r\n",
        "PARAMETERS:\r\n",
        " - kmer size =    20 \t\t(-k)\r\n",
        " - n hashes =     4 \t\t(-N)\r\n",
        " - min hashsize = 1e+07 \t(-x)\r\n",
        "\r\n",
        "Estimated memory usage is 4e+07 bytes (n_hashes x min_hashsize)\r\n",
        "--------\r\n",
        "Saving hashtable to bink2.kh\r\n",
        "Loading kmers from sequences in ['stamps-reads.fa.gz.bink.2']\r\n",
        "making hashtable\r\n"
       ]
      },
      {
       "output_type": "stream",
       "stream": "stdout",
       "text": [
        "consuming input stamps-reads.fa.gz.bink.2\r\n"
       ]
      },
      {
       "output_type": "stream",
       "stream": "stdout",
       "text": [
        "saving bink2.kh\r\n"
       ]
      },
      {
       "output_type": "stream",
       "stream": "stdout",
       "text": [
        "fp rate estimated to be 0.000\r\n",
        "DONE.\r\n"
       ]
      },
      {
       "output_type": "stream",
       "stream": "stdout",
       "text": [
        "hashtable from bink2.kh\r\n"
       ]
      },
      {
       "output_type": "stream",
       "stream": "stdout",
       "text": [
        "K: 20\r\n",
        "HT sizes: [10000019, 10000079, 10000103, 10000121]\r\n",
        "outputting to bink2.x.a.hist\r\n",
        "** squashing existing file bink2.x.a.hist\r\n",
        "preparing hist...\r\n"
       ]
      },
      {
       "output_type": "stream",
       "stream": "stdout",
       "text": [
        "hashtable from bink2.kh\r\n"
       ]
      },
      {
       "output_type": "stream",
       "stream": "stdout",
       "text": [
        "K: 20\r\n",
        "HT sizes: [10000019, 10000079, 10000103, 10000121]\r\n",
        "outputting to bink2.x.b.hist\r\n",
        "** squashing existing file bink2.x.b.hist\r\n",
        "preparing hist...\r\n"
       ]
      }
     ],
     "prompt_number": 51
    },
    {
     "cell_type": "code",
     "collapsed": false,
     "input": [
      "bink1xa = numpy.loadtxt('bink1.x.a.hist')\n",
      "bink1xb = numpy.loadtxt('bink1.x.b.hist')\n",
      "bink2xa = numpy.loadtxt('bink2.x.a.hist')\n",
      "bink2xb = numpy.loadtxt('bink2.x.b.hist')\n"
     ],
     "language": "python",
     "metadata": {},
     "outputs": [],
     "prompt_number": 52
    },
    {
     "cell_type": "code",
     "collapsed": false,
     "input": [
      "plot(bink1xa[:,0], bink1xa[:,1], label='bink1 x a')\n",
      "plot(bink1xb[:,0], bink1xb[:,1], label='bink1 x b')\n",
      "plot(bink2xa[:,0], bink2xa[:,1], label='bink2 x a')\n",
      "plot(bink2xb[:,0], bink2xb[:,1], label='bink2 x b')\n",
      "legend()"
     ],
     "language": "python",
     "metadata": {},
     "outputs": [
      {
       "output_type": "pyout",
       "prompt_number": 53,
       "text": [
        "<matplotlib.legend.Legend at 0x10c13cfd0>"
       ]
      },
      {
       "output_type": "display_data",
       "png": "[encoded data removed]",
       "text": [
        "<matplotlib.figure.Figure at 0x10c0c7a90>"
       ]
      }
     ],
     "prompt_number": 53
    },
    {
     "cell_type": "code",
     "collapsed": false,
     "input": [],
     "language": "python",
     "metadata": {},
     "outputs": [],
     "prompt_number": 53
    },
    {
     "cell_type": "code",
     "collapsed": false,
     "input": [
      "` "
     ],
     "language": "python",
     "metadata": {},
     "outputs": []
    }
   ],
   "metadata": {}
  }
 ]
}